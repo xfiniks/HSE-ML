{
  "nbformat": 4,
  "nbformat_minor": 0,
  "metadata": {
    "colab": {
      "provenance": []
    },
    "kernelspec": {
      "name": "python3",
      "display_name": "Python 3"
    },
    "language_info": {
      "name": "python"
    }
  },
  "cells": [
    {
      "cell_type": "markdown",
      "metadata": {
        "id": "view-in-github"
      },
      "source": [
        "<a href=\"https://colab.research.google.com/github/Murcha1990/ML_AI24/blob/main/Hometasks/Pro/AI_HW2_GD_pro.ipynb\" target=\"_parent\"><img src=\"https://colab.research.google.com/assets/colab-badge.svg\" alt=\"Open In Colab\"/></a>"
      ]
    },
    {
      "cell_type": "markdown",
      "source": [
        "# **Домашнее задание 2: Градиентный спуск (pro)**\n",
        "\n",
        "В этом задании две части - теоретическая и практическая. Теорию можно набирать, используя LaTex или просто решать на листочке, сфотографировать и отправить вместе с заполненным ноутбуком в anytask.\n",
        "\n",
        "Максимальный балл за домашнее задание - 10."
      ],
      "metadata": {
        "id": "lJ1Hwqs18fSZ"
      }
    },
    {
      "cell_type": "markdown",
      "source": [
        "## Часть 1 (теоретическая)\n",
        "\n",
        "## Задание 1 (**1.5 балла**)\n",
        "\n",
        "В случае одномерной Ridge-регрессии минимизируется функция со штрафом:\n",
        "$$Q(w) = (y-xw)^T(y-xw)+\\lambda w^2,$$\n",
        "где $\\lambda$ - положительный параметр, штрафующий функцию за слишком большие значения $w$.\n",
        "\n",
        "1)  (**0.5 балла**) Найдите производную $\\nabla_w Q(w)$, выведите формулу для оптимального $w$.\n",
        "\n",
        "2) (**0.5 балла**) Найдите вторую производную $\\nabla^2_w Q(w)$. Убедитесь, что мы оказались в точке минимума.\n",
        "\n",
        "3) (**0.5 балла**) Выпишите шаг градиентного спуска в матричном виде."
      ],
      "metadata": {
        "id": "EMZ5My7kiPY_"
      }
    },
    {
      "cell_type": "markdown",
      "source": [
        "## 1)  (**0.5 балла**) Найдите производную $\\nabla_w Q(w)$, выведите формулу для оптимального $w$.  \n",
        "<br>\n",
        "\n",
        "$$\n",
        "Q(w) = (y - Xw)^T(y - Xw) + \\lambda w^2\n",
        "$$\n",
        "\n",
        "<br>\n",
        "\n",
        "### Производная первой части\n",
        "\n",
        "<br>\n",
        "\n",
        "$$\n",
        "(y - Xw)^T(y - Xw) = y^Ty - 2y^TXw + w^TX^TXw\n",
        "$$\n",
        "\n",
        "$$\n",
        "\\nabla_w(y - Xw)^T(y - Xw) = -2X^Ty + 2X^TXw\n",
        "$$\n",
        "\n",
        "<br>\n",
        "\n",
        "### Производную второй части\n",
        "\n",
        "<br>\n",
        "\n",
        "$$\n",
        "\\nabla_w(\\lambda w^2) = 2\\lambda w\n",
        "$$\n",
        "\n",
        "<br>\n",
        "\n",
        "### Полная производная\n",
        "\n",
        "<br>\n",
        "\n",
        "$$\n",
        "\\nabla_w Q(w) = (-2X^Ty + 2X^TXw) + 2\\lambda w\n",
        "$$\n",
        "\n",
        "$$\n",
        "\\nabla_w Q(w) = 2X^TXw - 2X^Ty + 2\\lambda w\n",
        "$$\n",
        "\n",
        "<br>\n",
        "\n",
        "### Оптимальное значение $ w $\n",
        "\n",
        "<br>\n",
        "\n",
        "$$\n",
        "2X^TXw - 2X^Ty + 2\\lambda w = 0\n",
        "$$\n",
        "\n",
        "$$\n",
        "(X^TX + \\lambda I)w - X^Ty = 0\n",
        "$$\n",
        "\n",
        "$$\n",
        "(X^TX + \\lambda I)w = X^Ty\n",
        "$$\n",
        "\n",
        "$$\n",
        "w = (X^TX + \\lambda I)^{-1}X^Ty\n",
        "$$\n",
        "\n",
        "<br>\n",
        "\n",
        "## 2) (**0.5 балла**) Найдите вторую производную $\\nabla^2_w Q(w)$. Убедитесь, что мы оказались в точке минимума.\n",
        "\n",
        "   $$\n",
        "   \\nabla_w(2X^TXw) = 2X^TX\n",
        "   $$\n",
        "\n",
        "   $$\n",
        "   \\nabla_w(-2X^Ty) = 0\n",
        "   $$\n",
        "\n",
        "   $$\n",
        "   \\nabla_w(2\\lambda w) = 2\\lambda I\n",
        "   $$\n",
        "\n",
        "   <br>\n",
        "\n",
        "  $$\n",
        "  \\nabla^2_w Q(w) = 2X^TX + 2\\lambda I\n",
        "  $$\n",
        "\n",
        "### Убедимся, что мы находимся в точке минимума\n",
        "\n",
        "<center> $ 2X^TX > 0$ - квадрат нормы вектора </center>\n",
        "\n",
        "<center> $ 2\\lambda I > 0 $ - по условию </center>\n",
        "\n",
        "Поэтому:\n",
        "\n",
        "$$ 2X^TX + 2\\lambda I > 0 $$\n",
        "\n",
        "Из чего следует, что функция выпукла вверх и найденная точка  действительно является точкой минимума.\n",
        "\n",
        "\n",
        "## 3) (**0.5 балла**) Выпишите шаг градиентного спуска в матричном виде.\n",
        "\n",
        "$$w^{(t+1)} = w^{(t)} - \\eta(-2x^Ty + 2w^{(t)}x^Tx + 2\\lambda w^{(t)})$$\n",
        "$$w^{(t+1)} = w^{(t)} + 2\\eta x^Ty - 2\\eta w^{(t)}x^Tx - 2\\eta\\lambda w^{(t)}\n",
        "$$\n",
        "$$w^{(t+1)} = w^{(t)}(1 - 2\\eta(x^Tx + \\lambda)) + 2\\eta x^Ty$$\n",
        "\n",
        "\n",
        "\n"
      ],
      "metadata": {
        "id": "LQMI7b9Y9KvW"
      }
    },
    {
      "cell_type": "markdown",
      "source": [
        "## Часть 2 (практическая).\n",
        "\n",
        "## Задание 2 (**1 балл**)\n",
        "\n",
        "Дана функция: $$f(x) = x\\cdot sin(5x) + 0.1 \\cdot x^2$$\n",
        "\n",
        "Для этой функции:\n",
        "\n",
        "- [ ] Реализуйте (или возьмите рассмотренный на занятии) метод градиетного спуска с условием остановки `stop=1e^-6` и шагом `eta=0.001`. **Градиетный спуск обязательно должен сохранять траекторию движения.**\n",
        "- [ ] Задайте стартовые точки x0, равные 0, 0.5, 1\n",
        "- [ ] Реализуйте нахождение точек минимума и максимума функции $f(x)$ (для нахождения максимума нам нужно в направлении градиента, а не антиградиента)\n",
        "- [ ] Проанализируйте результаты. Предположите, с чем они связаны. Ответьте на вопросы:\n",
        "    - Чему равны значения экстремумов?\n",
        "    - При старте из какой начальной точки найденные экстремумы совпадут?\n",
        "\n",
        "\n"
      ],
      "metadata": {
        "id": "_pGazqdK9Tvf"
      }
    },
    {
      "cell_type": "code",
      "source": [
        "import numpy as np"
      ],
      "metadata": {
        "id": "kJSlLz0Qvyb-"
      },
      "execution_count": 70,
      "outputs": []
    },
    {
      "cell_type": "code",
      "source": [
        "# Функция и её производная\n",
        "def f(x):\n",
        "    return x * np.sin(5*x) + 0.1 * x**2\n",
        "\n",
        "def df(x):\n",
        "    return np.sin(5*x) + 5*x*np.cos(5*x) + 0.2*x\n",
        "\n",
        "# Градиентный спуск\n",
        "def gradient_descent(f, df, x0, eta, max_iter=1000, tol=1e-6):\n",
        "    x = x0\n",
        "    path = [x0]\n",
        "\n",
        "    for _ in range(max_iter):\n",
        "        x_new = x - eta * df(x)\n",
        "\n",
        "        path.append(x_new)\n",
        "\n",
        "        if abs(x_new - x) < tol:\n",
        "            break\n",
        "\n",
        "        x = x_new\n",
        "\n",
        "    return x, path\n",
        "\n",
        "# Поиск экстремумов\n",
        "def find_points(f, df, x0, eta, max_iter=1000, tol=1e-6):\n",
        "    def df_neg(x):\n",
        "        return -df(x)\n",
        "\n",
        "    x_min, min_path = gradient_descent(f, df, x0, eta, max_iter, tol)\n",
        "    x_max, max_path = gradient_descent(f, df_neg, x0, eta, max_iter, tol)\n",
        "\n",
        "    return x_min, f(x_min), x_max, f(x_max)"
      ],
      "metadata": {
        "id": "HJbAEs3_-zet"
      },
      "execution_count": 71,
      "outputs": []
    },
    {
      "cell_type": "code",
      "source": [
        "x0_points = [0, 0.5, 1]\n",
        "eta = 0.001\n",
        "\n",
        "for x0 in x0_points:\n",
        "    x_min, f_min, x_max, f_max = find_points(f, df, x0, eta)\n",
        "    print(f\"\\nДля x0 = {x0}:\")\n",
        "    print(f\"Минимум: x = {x_min:.6f}, f(x) = {f_min:.6f}\")\n",
        "    print(f\"Максимум: x = {x_max:.6f}, f(x) = {f_max:.6f}\")"
      ],
      "metadata": {
        "colab": {
          "base_uri": "https://localhost:8080/"
        },
        "id": "48JIT5Llyieg",
        "outputId": "fb1a045e-4143-46fa-9a3b-fc883f062935"
      },
      "execution_count": 72,
      "outputs": [
        {
          "output_type": "stream",
          "name": "stdout",
          "text": [
            "\n",
            "Для x0 = 0:\n",
            "Минимум: x = 0.000000, f(x) = 0.000000\n",
            "Максимум: x = 0.000000, f(x) = 0.000000\n",
            "\n",
            "Для x0 = 0.5:\n",
            "Минимум: x = 0.975061, f(x) = -0.867075\n",
            "Максимум: x = 0.411857, f(x) = 0.380650\n",
            "\n",
            "Для x0 = 1:\n",
            "Минимум: x = 0.975138, f(x) = -0.867075\n",
            "Максимум: x = 1.603529, f(x) = 1.839232\n"
          ]
        }
      ]
    },
    {
      "cell_type": "markdown",
      "source": [
        "При старте из 0 найденные экстремумы совпали, т.к. в этой точке производная равна 0 и алгоритм сразу останавливается.\n",
        "\n"
      ],
      "metadata": {
        "id": "Xco_u4cJ3PEx"
      }
    },
    {
      "cell_type": "markdown",
      "source": [
        "## Задание 3 (**0.5 балла**).\n",
        "Напишите функцию, вычисляющую значение весов в линейной регрессии по точной (аналитически найденной) формуле."
      ],
      "metadata": {
        "id": "lm6_Ln0GoliG"
      }
    },
    {
      "cell_type": "code",
      "source": [
        "from sklearn.linear_model import LinearRegression"
      ],
      "metadata": {
        "id": "ElCSQIRKCHv4"
      },
      "execution_count": 73,
      "outputs": []
    },
    {
      "cell_type": "code",
      "source": [
        "def ols_solution(X, y):\n",
        "    X, y = np.array(X), np.array(y)\n",
        "    return np.linalg.inv(X.T @ X) @ X.T @ y"
      ],
      "metadata": {
        "id": "ZrVvpU9miOga"
      },
      "execution_count": 74,
      "outputs": []
    },
    {
      "cell_type": "code",
      "source": [
        "X = [[1, 0], [0, 1]]\n",
        "y = [2, 3]\n",
        "\n",
        "ols_solution(X, y)"
      ],
      "metadata": {
        "colab": {
          "base_uri": "https://localhost:8080/"
        },
        "id": "o1IUNYkJA0Mt",
        "outputId": "a0fdba9b-f792-4e22-bbd0-d8a29949af1f"
      },
      "execution_count": 75,
      "outputs": [
        {
          "output_type": "execute_result",
          "data": {
            "text/plain": [
              "array([2., 3.])"
            ]
          },
          "metadata": {},
          "execution_count": 75
        }
      ]
    },
    {
      "cell_type": "code",
      "source": [
        "lr = LinearRegression(fit_intercept=False)\n",
        "lr.fit(X, y)\n",
        "lr.coef_"
      ],
      "metadata": {
        "colab": {
          "base_uri": "https://localhost:8080/"
        },
        "id": "kwcBlwnuBCoC",
        "outputId": "87141d92-a1ce-40a1-cab5-9db5239a4731"
      },
      "execution_count": 76,
      "outputs": [
        {
          "output_type": "execute_result",
          "data": {
            "text/plain": [
              "array([2., 3.])"
            ]
          },
          "metadata": {},
          "execution_count": 76
        }
      ]
    },
    {
      "cell_type": "markdown",
      "source": [
        "## Задание 5 (**1 балл**).\n",
        "Модифицируйте метод градиентного спуска с семинара так, чтобы это теперь был метод стохастического градиентного спуска."
      ],
      "metadata": {
        "id": "_shCsTQ1pVcU"
      }
    },
    {
      "cell_type": "code",
      "source": [
        "import random"
      ],
      "metadata": {
        "id": "8oWiMxk0CGcK"
      },
      "execution_count": 77,
      "outputs": []
    },
    {
      "cell_type": "code",
      "source": [
        "def compute_cost(X, y, theta):\n",
        "    m = len(y)\n",
        "\n",
        "    cost = (1./m) * (np.linalg.norm(X @ theta - y) ** 2)\n",
        "    return cost"
      ],
      "metadata": {
        "id": "fNMh3LYBB8dF"
      },
      "execution_count": 78,
      "outputs": []
    },
    {
      "cell_type": "code",
      "source": [
        "def stochastic_gradient_descent(X, y, learning_rate, iterations):\n",
        "    X = np.hstack((np.ones((X.shape[0], 1)), X))\n",
        "    params = np.random.rand(X.shape[1])\n",
        "    m = X.shape[0]\n",
        "\n",
        "    cost_track = np.zeros((iterations, 1))\n",
        "\n",
        "    for i in range(iterations):\n",
        "        idx = np.random.randint(0, m)\n",
        "\n",
        "        X_batch = X[idx]\n",
        "        y_batch = y[idx]\n",
        "\n",
        "        params = params - 2 * learning_rate * ((X_batch @ params - y_batch) * X_batch)\n",
        "\n",
        "        cost_track[i] = compute_cost(X, y, params)\n",
        "\n",
        "    return cost_track, params"
      ],
      "metadata": {
        "id": "fTZWxz1zpb9R"
      },
      "execution_count": 79,
      "outputs": []
    },
    {
      "cell_type": "markdown",
      "source": [
        "## Задание 6 (**3 балла**).\n",
        "* **(0 баллов)**. Скопируйте метод градиентного спуска из семинара в этот ноутбук.\n",
        "\n",
        "* **(0.5 балла)**. Обучите линейную регрессию на данных, сгенерированных ниже, тремя методами (по точной формуле, с помощью GD и с помощью SGD) на данных для задачи регрессии (см. код). Для GD и SGD используйте learning_rate = 0.01, iterations=10000.\n",
        "\n",
        "* **(0.5 балла)**. С помощью каждого метода сделайте предсказание (на всех данных), вычислите качество предсказания r2 (from sklearn.metrics import r2_score). Для получения предсказания можете использовать функцию predict с семинара.\n",
        "\n",
        "\n",
        "Ответьте на следующие вопросы (каждый вопрос - **0.5 балла**):\n",
        "\n",
        "1) все ли методы справились с нахождением минимума? если нет, то почему какой-то из методов не справился?\n",
        "\n",
        "2) сравните время работы методов (используйте библиотеку time): замеряйте время работы соответствующей написанной вами функции.\n",
        "\n",
        "3) для методов GD и SGD нарисуйте графики (для каждого свой) зависимости ошибки (loss) от номера итерации.\n",
        "\n",
        "4) какой метод успешнее всего справился с задачей? (т.е. r2 наибольший)."
      ],
      "metadata": {
        "id": "WnRlUa9Npi9o"
      }
    },
    {
      "cell_type": "code",
      "source": [
        "def gradient_descent(X, y, learning_rate, iterations):\n",
        "\n",
        "    X = np.hstack((np.ones((X.shape[0], 1)), X))\n",
        "    params = np.random.rand(X.shape[1])\n",
        "\n",
        "    m = X.shape[0]\n",
        "\n",
        "    cost_track = np.zeros((iterations,1))\n",
        "\n",
        "    for i in range(iterations):\n",
        "        params = params - 2./m * learning_rate * (X.T @ ((X @ params) - y))\n",
        "        cost_track[i] = compute_cost(X, y, params)\n",
        "\n",
        "    return cost_track, params"
      ],
      "metadata": {
        "id": "2bQoyojWGPUI"
      },
      "execution_count": 80,
      "outputs": []
    },
    {
      "cell_type": "code",
      "source": [
        "def predict(X, params):\n",
        "    X = np.hstack((np.ones((X.shape[0], 1)), X))\n",
        "    return X @ params"
      ],
      "metadata": {
        "id": "NxMQUbY7GSbr"
      },
      "execution_count": 81,
      "outputs": []
    },
    {
      "cell_type": "code",
      "source": [
        "from sklearn.datasets import make_regression\n",
        "import pandas as pd\n",
        "import numpy as np\n",
        "\n",
        "X, y, _ = make_regression(n_samples=100000,#number of samples\n",
        "                          n_features=10,#number of features\n",
        "                          n_informative=8,#number of useful features\n",
        "                          noise=100,#bias and standard deviation of the guassian noise\n",
        "                          coef=True,#true coefficient used to generated the data\n",
        "                          random_state=123)\n",
        "\n",
        "X = pd.DataFrame(data=X, columns=np.arange(0, X.shape[1]))\n",
        "X[10] = X[6] + X[7] + np.random.random()*0.01"
      ],
      "metadata": {
        "id": "LBu41KSpqbbI"
      },
      "execution_count": 82,
      "outputs": []
    },
    {
      "cell_type": "code",
      "source": [
        "from sklearn.metrics import r2_score"
      ],
      "metadata": {
        "id": "jQqxOwwmHhjT"
      },
      "execution_count": 83,
      "outputs": []
    },
    {
      "cell_type": "markdown",
      "source": [
        "### Аналитическая формула"
      ],
      "metadata": {
        "id": "bnLC2lmwHyx_"
      }
    },
    {
      "cell_type": "code",
      "source": [
        "w_ols = ols_solution(X, y)\n",
        "y_pred_ols = X @ w_ols\n",
        "\n",
        "r2_score_ols = r2_score(y, y_pred_ols)\n",
        "r2_score_ols"
      ],
      "metadata": {
        "id": "f1SE0-oUtVlO",
        "colab": {
          "base_uri": "https://localhost:8080/"
        },
        "outputId": "6ac97e25-3d1d-42a5-80ce-1863027129ef"
      },
      "execution_count": 84,
      "outputs": [
        {
          "output_type": "execute_result",
          "data": {
            "text/plain": [
              "0.7554626185750483"
            ]
          },
          "metadata": {},
          "execution_count": 84
        }
      ]
    },
    {
      "cell_type": "code",
      "source": [
        "%%time\n",
        "w_ols = ols_solution(X, y)"
      ],
      "metadata": {
        "colab": {
          "base_uri": "https://localhost:8080/"
        },
        "id": "xEnvJPInMDzy",
        "outputId": "20c59691-4d30-4975-b892-511a742c002f"
      },
      "execution_count": 85,
      "outputs": [
        {
          "output_type": "stream",
          "name": "stdout",
          "text": [
            "CPU times: user 16.7 ms, sys: 0 ns, total: 16.7 ms\n",
            "Wall time: 13.7 ms\n"
          ]
        }
      ]
    },
    {
      "cell_type": "markdown",
      "source": [
        "### Градиентный спуск"
      ],
      "metadata": {
        "id": "owCFnuOzH4zV"
      }
    },
    {
      "cell_type": "code",
      "source": [
        "track_grad, w_grad = gradient_descent(X, y, 0.01, 10_000)\n",
        "y_pred_grad = predict(X, w_grad)\n",
        "\n",
        "r2_score_grad = r2_score(y, y_pred_grad)\n",
        "r2_score_grad"
      ],
      "metadata": {
        "colab": {
          "base_uri": "https://localhost:8080/"
        },
        "id": "wqoedRgZHxOn",
        "outputId": "26a8b1d2-94ef-4f23-90de-9a2855fb38ac"
      },
      "execution_count": 86,
      "outputs": [
        {
          "output_type": "execute_result",
          "data": {
            "text/plain": [
              "0.7554626185750483"
            ]
          },
          "metadata": {},
          "execution_count": 86
        }
      ]
    },
    {
      "cell_type": "code",
      "source": [
        "%%time\n",
        "gradient_descent(X, y, 0.01, 10_000)"
      ],
      "metadata": {
        "colab": {
          "base_uri": "https://localhost:8080/"
        },
        "id": "jNYq0zSVMOLz",
        "outputId": "71df3866-7c0c-4a91-f6ee-0da22b625402"
      },
      "execution_count": 87,
      "outputs": [
        {
          "output_type": "stream",
          "name": "stdout",
          "text": [
            "CPU times: user 21.5 s, sys: 3.98 s, total: 25.5 s\n",
            "Wall time: 14.5 s\n"
          ]
        },
        {
          "output_type": "execute_result",
          "data": {
            "text/plain": [
              "(array([[38078.2547103 ],\n",
              "        [36043.59801261],\n",
              "        [34196.85128419],\n",
              "        ...,\n",
              "        [ 9982.20353127],\n",
              "        [ 9982.20353127],\n",
              "        [ 9982.20353127]]),\n",
              " array([-0.63834148, 56.82455793, 33.48291813, -0.24065452, 39.64529367,\n",
              "        -0.13585617, 49.12295947, 13.9223821 , 42.89807286, 79.20386231,\n",
              "        42.4712069 , 55.7219869 ]))"
            ]
          },
          "metadata": {},
          "execution_count": 87
        }
      ]
    },
    {
      "cell_type": "markdown",
      "source": [
        "### Стохастический градиентный спуск"
      ],
      "metadata": {
        "id": "2zrdVgQrtcAn"
      }
    },
    {
      "cell_type": "code",
      "source": [
        "track_stoch_grad, w_stoch_grad = stochastic_gradient_descent(X, y, 0.01, 10_000)\n",
        "y_pred_stoch_grad = predict(X, w_stoch_grad)\n",
        "\n",
        "r2_score_stoch_grad = r2_score(y, y_pred_stoch_grad)\n",
        "r2_score_stoch_grad"
      ],
      "metadata": {
        "colab": {
          "base_uri": "https://localhost:8080/"
        },
        "id": "AcprAGXLKVAV",
        "outputId": "1575f7c2-0f94-4ae6-c8ab-8a43ace80f28"
      },
      "execution_count": 88,
      "outputs": [
        {
          "output_type": "execute_result",
          "data": {
            "text/plain": [
              "0.6771085427212049"
            ]
          },
          "metadata": {},
          "execution_count": 88
        }
      ]
    },
    {
      "cell_type": "code",
      "source": [
        "%%time\n",
        "stochastic_gradient_descent(X, y, 0.01, 10_000)"
      ],
      "metadata": {
        "colab": {
          "base_uri": "https://localhost:8080/"
        },
        "id": "O8sNobJHMScz",
        "outputId": "77aee0ab-3a51-4f6c-fd81-e743a504361f"
      },
      "execution_count": 89,
      "outputs": [
        {
          "output_type": "stream",
          "name": "stdout",
          "text": [
            "CPU times: user 9.33 s, sys: 2.66 s, total: 12 s\n",
            "Wall time: 7.71 s\n"
          ]
        },
        {
          "output_type": "execute_result",
          "data": {
            "text/plain": [
              "(array([[39940.04361896],\n",
              "        [39698.71367817],\n",
              "        [34150.75129606],\n",
              "        ...,\n",
              "        [11681.80275243],\n",
              "        [11577.72700737],\n",
              "        [11540.62382418]]),\n",
              " array([-12.61843157,  86.15550319,  22.62534533,   0.42067383,\n",
              "         40.04701624,  17.9720181 ,  51.93601978,  15.84058281,\n",
              "         40.94280935,  72.62764862,  35.59785963,  56.08905426]))"
            ]
          },
          "metadata": {},
          "execution_count": 89
        }
      ]
    },
    {
      "cell_type": "markdown",
      "source": [
        "1) Стохастический градиентный спуск не нашел минимум, а нашел близкую к нему точку. Это произошло из-за того, что мы рандомили объект для вычисления градиента\n",
        "\n",
        "2) Самым быстрым оказалось решение с помощью формулы, а самым медленным - градиентный спуск\n",
        "\n",
        "4) Самым успешным оказалось решение с помощью формулы и градиентный спуск"
      ],
      "metadata": {
        "id": "LO3_n0GpPrkQ"
      }
    },
    {
      "cell_type": "code",
      "source": [
        "import matplotlib.pyplot as plt"
      ],
      "metadata": {
        "id": "T-S6yll0QtcJ"
      },
      "execution_count": 90,
      "outputs": []
    },
    {
      "cell_type": "code",
      "source": [
        "plt.plot(track_grad)\n",
        "plt.xlabel('Номер итерации')\n",
        "plt.ylabel('loss')"
      ],
      "metadata": {
        "colab": {
          "base_uri": "https://localhost:8080/",
          "height": 467
        },
        "id": "Ud_c_LMNQqTh",
        "outputId": "d5219cd4-e794-4838-b458-4d6cdd9e66c3"
      },
      "execution_count": 91,
      "outputs": [
        {
          "output_type": "execute_result",
          "data": {
            "text/plain": [
              "Text(0, 0.5, 'loss')"
            ]
          },
          "metadata": {},
          "execution_count": 91
        },
        {
          "output_type": "display_data",
          "data": {
            "text/plain": [
              "<Figure size 640x480 with 1 Axes>"
            ],
            "image/png": "[encoded data removed]"
          },
          "metadata": {}
        }
      ]
    },
    {
      "cell_type": "code",
      "source": [
        "plt.plot(track_stoch_grad)\n",
        "plt.xlabel('Номер итерации')\n",
        "plt.ylabel('loss')"
      ],
      "metadata": {
        "colab": {
          "base_uri": "https://localhost:8080/",
          "height": 467
        },
        "id": "OVR4WrLCQ123",
        "outputId": "2355e9b8-03de-4f96-f6ec-8095395da86b"
      },
      "execution_count": 92,
      "outputs": [
        {
          "output_type": "execute_result",
          "data": {
            "text/plain": [
              "Text(0, 0.5, 'loss')"
            ]
          },
          "metadata": {},
          "execution_count": 92
        },
        {
          "output_type": "display_data",
          "data": {
            "text/plain": [
              "<Figure size 640x480 with 1 Axes>"
            ],
            "image/png": "[encoded data removed]"
          },
          "metadata": {}
        }
      ]
    },
    {
      "cell_type": "markdown",
      "source": [
        "## Задание 7 (1.5 балла).\n",
        "\n",
        "* **(0.5 балла)**. Добавьте в функцию из задания 5 L2-регуляризацию и, соответственно, новый аргумент - коэффициент при регуляризаторе.\n",
        "\n",
        "* **(1 балл)**. На сгенерированных выше данных обучите модифицированный алгоритм SGD с регуляризацией: в цикле перебирайте значения коэффициента регуляризации от 0.1 до 1 с шагом 0.1. Для каждого значения обучите модель и сделайте предсказание, выведите значение r2. Для какого значения коэффициента регуляризации получилось наилучшее качество r2, почему?"
      ],
      "metadata": {
        "id": "wYmzzJVV54zT"
      }
    },
    {
      "cell_type": "code",
      "source": [
        "def compute_cost_l2(X, y, theta, lambda_reg):\n",
        "    m = len(y)\n",
        "    cost = (1./m) * (np.linalg.norm(X @ theta - y) ** 2) + lambda_reg * np.sum(theta[1:]**2)\n",
        "    return cost"
      ],
      "metadata": {
        "id": "8422sUo7EV4L"
      },
      "execution_count": 93,
      "outputs": []
    },
    {
      "cell_type": "code",
      "source": [
        "def stochastic_gradient_descent_l2(X, y, learning_rate, iterations, lambda_reg=0.1):\n",
        "    X = np.hstack((np.ones((X.shape[0], 1)), X))\n",
        "    params = np.random.rand(X.shape[1])\n",
        "    m = X.shape[0]\n",
        "\n",
        "    cost_track = np.zeros((iterations, 1))\n",
        "\n",
        "    for i in range(iterations):\n",
        "        idx = np.random.randint(0, m)\n",
        "\n",
        "        X_batch = X[idx]\n",
        "        y_batch = y[idx]\n",
        "\n",
        "        gradient = 2 * learning_rate * ((X_batch @ params - y_batch) * X_batch)\n",
        "        reg_term = 2 * lambda_reg * learning_rate * params\n",
        "        reg_term[0] = 0\n",
        "\n",
        "        params = params - gradient - reg_term\n",
        "\n",
        "        cost_track[i] = compute_cost_l2(X, y, params, lambda_reg)\n",
        "\n",
        "    return cost_track, params"
      ],
      "metadata": {
        "id": "b_hC1Ehi612d"
      },
      "execution_count": 94,
      "outputs": []
    },
    {
      "cell_type": "code",
      "source": [
        "learning_rate = 0.01\n",
        "iterations = 1000\n",
        "lambdas = np.arange(0.1, 1.1, 0.1)\n",
        "\n",
        "r2_scores = []\n",
        "\n",
        "for lambda_reg in lambdas:\n",
        "    cost_track, w = stochastic_gradient_descent_l2(X, y, learning_rate, iterations, lambda_reg)\n",
        "    y_pred = predict(X, w)\n",
        "    r2 = r2_score(y, y_pred)\n",
        "    r2_scores.append(r2)\n",
        "    print(f\"Коэффициент регуляризации λ = {lambda_reg:.1f}, R² = {r2:.4f}\")"
      ],
      "metadata": {
        "colab": {
          "base_uri": "https://localhost:8080/"
        },
        "id": "-4skLjtEI_nK",
        "outputId": "4f482f8d-1b46-4b70-b34e-d84d53cd19cc"
      },
      "execution_count": 104,
      "outputs": [
        {
          "output_type": "stream",
          "name": "stdout",
          "text": [
            "Коэффициент регуляризации λ = 0.1, R² = 0.7263\n",
            "Коэффициент регуляризации λ = 0.2, R² = 0.6833\n",
            "Коэффициент регуляризации λ = 0.3, R² = 0.7019\n",
            "Коэффициент регуляризации λ = 0.4, R² = 0.6910\n",
            "Коэффициент регуляризации λ = 0.5, R² = 0.6602\n",
            "Коэффициент регуляризации λ = 0.6, R² = 0.6898\n",
            "Коэффициент регуляризации λ = 0.7, R² = 0.6650\n",
            "Коэффициент регуляризации λ = 0.8, R² = 0.6060\n",
            "Коэффициент регуляризации λ = 0.9, R² = 0.6116\n",
            "Коэффициент регуляризации λ = 1.0, R² = 0.6120\n"
          ]
        }
      ]
    },
    {
      "cell_type": "code",
      "source": [
        "plt.plot(lambdas, r2_scores, marker='o')\n",
        "plt.grid(True)\n",
        "plt.xlabel(\"Коэффициент регуляризации λ\")\n",
        "plt.ylabel(\"R²\")\n",
        "plt.title(\"Зависимость R² от λ\")\n",
        "plt.show()"
      ],
      "metadata": {
        "colab": {
          "base_uri": "https://localhost:8080/",
          "height": 472
        },
        "id": "dEekXkBBJWkL",
        "outputId": "9ba78b89-cb0b-48a4-e767-44515ce2f131"
      },
      "execution_count": 105,
      "outputs": [
        {
          "output_type": "display_data",
          "data": {
            "text/plain": [
              "<Figure size 640x480 with 1 Axes>"
            ],
            "image/png": "[encoded data removed]"
          },
          "metadata": {}
        }
      ]
    },
    {
      "cell_type": "markdown",
      "source": [
        "Лучшее качество модель показала при λ = 0.1. Скорее всего модель просто переобучилась. Но чем больше коэффициент - тем больше шанс недообучения."
      ],
      "metadata": {
        "id": "RGrsco22Kyl_"
      }
    },
    {
      "cell_type": "markdown",
      "source": [
        "## Задание 8 (2 балла)\n",
        "\n",
        "Реализуйте на выбор одну из оптимизаций градиентного спуска - Momentum или  AdaGrad. Необходимые выкладки вы можете подсмотреть [здесь](https://education.yandex.ru/handbook/ml/article/optimizaciya-v-ml)."
      ],
      "metadata": {
        "id": "zMUiRyCiCB3E"
      }
    },
    {
      "cell_type": "markdown",
      "source": [
        "### AdaGrad"
      ],
      "metadata": {
        "id": "phKKQJXlSwGI"
      }
    },
    {
      "cell_type": "code",
      "source": [
        "def modified_grad_descent(X, y, learning_rate, iterations, lambda_reg=0.1, epsilon=1e-8, batch_size = 32): # добавьте в аргументы также специфические для метода оптимизации гиперпараметры\n",
        "    X = np.hstack((np.ones((X.shape[0], 1)), X))\n",
        "    params = np.random.rand(X.shape[1])\n",
        "    m = X.shape[0]\n",
        "    cost_track = np.zeros((iterations, 1))\n",
        "\n",
        "    sum_squares = np.zeros_like(params)\n",
        "\n",
        "    for i in range(iterations):\n",
        "        idx = np.random.choice(m, batch_size)\n",
        "        X_batch = X[idx]\n",
        "        y_batch = y[idx]\n",
        "\n",
        "        predictions = X_batch @ params\n",
        "        errors = predictions - y_batch\n",
        "        gradient = (2.0/batch_size) * (X_batch.T @ errors)\n",
        "\n",
        "        reg_term = 2 * lambda_reg * params\n",
        "        reg_term[0] = 0\n",
        "\n",
        "        full_gradient = gradient + reg_term\n",
        "\n",
        "        sum_squares += full_gradient**2\n",
        "\n",
        "        params = params - learning_rate * full_gradient / (np.sqrt(sum_squares + epsilon))\n",
        "\n",
        "        cost_track[i] = compute_cost_l2(X, y, params, lambda_reg)\n",
        "\n",
        "    return cost_track, params"
      ],
      "metadata": {
        "id": "ID9ervHwCyc7"
      },
      "execution_count": 106,
      "outputs": []
    },
    {
      "cell_type": "code",
      "source": [
        "learning_rate = 1\n",
        "iterations = 5000\n",
        "lambdas = np.arange(0.1, 1.1, 0.1)\n",
        "\n",
        "r2_scores = []\n",
        "\n",
        "for lambda_reg in lambdas:\n",
        "    cost_track, w = modified_grad_descent(X, y, learning_rate, iterations, lambda_reg)\n",
        "    y_pred = predict(X, w)\n",
        "    r2 = r2_score(y, y_pred)\n",
        "    r2_scores.append(r2)\n",
        "    print(f\"Коэффициент регуляризации λ = {lambda_reg:.1f}, R² = {r2:.4f}\")"
      ],
      "metadata": {
        "colab": {
          "base_uri": "https://localhost:8080/"
        },
        "id": "w9AyWQAlOlCq",
        "outputId": "8d57dcc8-5db1-4dcb-f5d3-dbd03e115092"
      },
      "execution_count": 107,
      "outputs": [
        {
          "output_type": "stream",
          "name": "stdout",
          "text": [
            "Коэффициент регуляризации λ = 0.1, R² = 0.7498\n",
            "Коэффициент регуляризации λ = 0.2, R² = 0.7407\n",
            "Коэффициент регуляризации λ = 0.3, R² = 0.7290\n",
            "Коэффициент регуляризации λ = 0.4, R² = 0.7158\n",
            "Коэффициент регуляризации λ = 0.5, R² = 0.7023\n",
            "Коэффициент регуляризации λ = 0.6, R² = 0.6861\n",
            "Коэффициент регуляризации λ = 0.7, R² = 0.6713\n",
            "Коэффициент регуляризации λ = 0.8, R² = 0.6579\n",
            "Коэффициент регуляризации λ = 0.9, R² = 0.6451\n",
            "Коэффициент регуляризации λ = 1.0, R² = 0.6298\n"
          ]
        }
      ]
    },
    {
      "cell_type": "markdown",
      "source": [
        "## Бонус\n",
        "\n",
        "## Задание 9 (0.5 балла)\n",
        "\n",
        "Существует [метод Ньютона](https://en.wikipedia.org/wiki/Newton%27s_method_in_optimization) (метод второго порядка) для поиска минимума функции.\n",
        "\n",
        "Известно, что методы второго порядка точнее, чем методы первого порядка (то есть те, которые используют только первую производную для оптимизации). Как вы думаете, почему в оптимизации функций потерь все формулы используют только производные первого порядка? Почему не используют метод Ньютона?"
      ],
      "metadata": {
        "id": "tP182Wbyh8xg"
      }
    },
    {
      "cell_type": "markdown",
      "source": [
        "1) Вычислительная сложность - метод Ньютона требует вычисления матрицы вторых производных. Квадратичная сложность неприменима к моделям с множеством параметров. Также гессиан может быть плохо обусловленным.\n",
        "\n",
        "2) Сложность при работе с мини батчами. Гессиан, посчитанный на мини батче, может плохо описывать реальный.\n",
        "\n",
        "3) Методы первого порядка дают приемлемую точность, тратя меньше времени и памяти"
      ],
      "metadata": {
        "id": "QBHOY5Ngi_C2"
      }
    },
    {
      "cell_type": "markdown",
      "source": [
        "## **Часть Котобонус** 🐈\n",
        "\n",
        "Ура-ура, с вами снова кот, который может добавить вам баллы!\n",
        "- 0.25, если вы угадаете, чей он\n",
        "- 0.05 если просто предположите\n",
        "\n",
        "**Подсказка:** кот одной из наших замечательных ассистенток!\n",
        "\n",
        "\n",
        "[Кайфующий кот](https://ibb.co/qxjz2tp)"
      ],
      "metadata": {
        "id": "u7hKRuViF7hv"
      }
    },
    {
      "cell_type": "markdown",
      "source": [
        "Ставлю вторую производную, что это кот Яны"
      ],
      "metadata": {
        "id": "YjBUy488UbiU"
      }
    }
  ]
}